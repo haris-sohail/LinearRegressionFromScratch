{
 "cells": [
  {
   "cell_type": "markdown",
   "id": "c70ff363-aa37-46ad-b897-5920dd9cca4f",
   "metadata": {},
   "source": [
    "# Dataset\n",
    "\n",
    "[Advertising Dataset](https://www.kaggle.com/datasets/yasserh/advertising-sales-dataset)"
   ]
  },
  {
   "cell_type": "code",
   "execution_count": 14,
   "id": "dcdfd7e8-bbe3-4085-b03f-3cbb3105d535",
   "metadata": {},
   "outputs": [],
   "source": [
    "import pandas as pd\n",
    "import numpy as np"
   ]
  },
  {
   "cell_type": "code",
   "execution_count": 15,
   "id": "803eef36-003b-458b-acd5-73b483ade70f",
   "metadata": {},
   "outputs": [
    {
     "data": {
      "text/html": [
       "<div>\n",
       "<style scoped>\n",
       "    .dataframe tbody tr th:only-of-type {\n",
       "        vertical-align: middle;\n",
       "    }\n",
       "\n",
       "    .dataframe tbody tr th {\n",
       "        vertical-align: top;\n",
       "    }\n",
       "\n",
       "    .dataframe thead th {\n",
       "        text-align: right;\n",
       "    }\n",
       "</style>\n",
       "<table border=\"1\" class=\"dataframe\">\n",
       "  <thead>\n",
       "    <tr style=\"text-align: right;\">\n",
       "      <th></th>\n",
       "      <th>Unnamed: 0</th>\n",
       "      <th>TV Ad Budget ($)</th>\n",
       "      <th>Radio Ad Budget ($)</th>\n",
       "      <th>Newspaper Ad Budget ($)</th>\n",
       "      <th>Sales ($)</th>\n",
       "    </tr>\n",
       "  </thead>\n",
       "  <tbody>\n",
       "    <tr>\n",
       "      <th>0</th>\n",
       "      <td>1</td>\n",
       "      <td>230.1</td>\n",
       "      <td>37.8</td>\n",
       "      <td>69.2</td>\n",
       "      <td>22.1</td>\n",
       "    </tr>\n",
       "    <tr>\n",
       "      <th>1</th>\n",
       "      <td>2</td>\n",
       "      <td>44.5</td>\n",
       "      <td>39.3</td>\n",
       "      <td>45.1</td>\n",
       "      <td>10.4</td>\n",
       "    </tr>\n",
       "    <tr>\n",
       "      <th>2</th>\n",
       "      <td>3</td>\n",
       "      <td>17.2</td>\n",
       "      <td>45.9</td>\n",
       "      <td>69.3</td>\n",
       "      <td>9.3</td>\n",
       "    </tr>\n",
       "    <tr>\n",
       "      <th>3</th>\n",
       "      <td>4</td>\n",
       "      <td>151.5</td>\n",
       "      <td>41.3</td>\n",
       "      <td>58.5</td>\n",
       "      <td>18.5</td>\n",
       "    </tr>\n",
       "    <tr>\n",
       "      <th>4</th>\n",
       "      <td>5</td>\n",
       "      <td>180.8</td>\n",
       "      <td>10.8</td>\n",
       "      <td>58.4</td>\n",
       "      <td>12.9</td>\n",
       "    </tr>\n",
       "  </tbody>\n",
       "</table>\n",
       "</div>"
      ],
      "text/plain": [
       "   Unnamed: 0  TV Ad Budget ($)  Radio Ad Budget ($)  Newspaper Ad Budget ($)  \\\n",
       "0           1             230.1                 37.8                     69.2   \n",
       "1           2              44.5                 39.3                     45.1   \n",
       "2           3              17.2                 45.9                     69.3   \n",
       "3           4             151.5                 41.3                     58.5   \n",
       "4           5             180.8                 10.8                     58.4   \n",
       "\n",
       "   Sales ($)  \n",
       "0       22.1  \n",
       "1       10.4  \n",
       "2        9.3  \n",
       "3       18.5  \n",
       "4       12.9  "
      ]
     },
     "execution_count": 15,
     "metadata": {},
     "output_type": "execute_result"
    }
   ],
   "source": [
    "# load the dataset\n",
    "dataset_filename = './dataset/advertising.csv'\n",
    "\n",
    "advertising_df = pd.read_csv(dataset_filename)\n",
    "\n",
    "advertising_df.head()"
   ]
  },
  {
   "cell_type": "code",
   "execution_count": 16,
   "id": "e7f56f4c-6b8b-46c6-8fd7-27f1ea0de90e",
   "metadata": {},
   "outputs": [],
   "source": [
    "# drop the un-named column\n",
    "advertising_df.drop(columns = ['Unnamed: 0'], axis = 1, inplace = True)"
   ]
  },
  {
   "cell_type": "markdown",
   "id": "0d727563-8f22-4b01-a7af-d4246c242ce4",
   "metadata": {},
   "source": [
    "# X, y split"
   ]
  },
  {
   "cell_type": "code",
   "execution_count": 17,
   "id": "2d67f867-f48e-4fb6-86f0-b50456cf83b1",
   "metadata": {},
   "outputs": [],
   "source": [
    "X = advertising_df.iloc[:,0:3] # convert to numpy array\n",
    "y = advertising_df.iloc[:, 3] # convert to numpy array"
   ]
  },
  {
   "cell_type": "markdown",
   "id": "86cbbeba-c54d-4363-8eeb-d03044ecd6cf",
   "metadata": {},
   "source": [
    "# Train, Test split"
   ]
  },
  {
   "cell_type": "code",
   "execution_count": 18,
   "id": "c3ade523-6498-411b-a93f-4b87c5b1510a",
   "metadata": {},
   "outputs": [],
   "source": [
    "# Shuffle the dataset while maintaining the correspondence between X and y\n",
    "shuffled_indices = np.random.permutation(len(X))\n",
    "\n",
    "# Apply the shuffled indices to both X and y\n",
    "X_shuffled = X.iloc[shuffled_indices].values\n",
    "y_shuffled = y.iloc[shuffled_indices].values\n",
    "\n",
    "# 80% train, 20% test\n",
    "\n",
    "# X\n",
    "X_train, X_test = np.split(X_shuffled, [int(0.8 * len(X_shuffled))])\n",
    "\n",
    "# y\n",
    "y_train, y_test = np.split(y_shuffled, [int(0.8 * len(y_shuffled))])"
   ]
  },
  {
   "cell_type": "markdown",
   "id": "1f1f8c49-ae20-44ad-a4df-b3e901047876",
   "metadata": {},
   "source": [
    "# Linear Regressor"
   ]
  },
  {
   "cell_type": "code",
   "execution_count": 19,
   "id": "f9a30908-a527-4de6-b0cb-4d23a4862ac9",
   "metadata": {},
   "outputs": [],
   "source": [
    "def mean_squared_error(y_real, y_pred):\n",
    "        y_real = np.array(y_real)\n",
    "        y_pred = np.array(y_pred)\n",
    "        \n",
    "        squared_diff = np.square(y_real - y_pred)\n",
    "        \n",
    "        mse = np.mean(squared_diff)\n",
    "        \n",
    "        return mse\n",
    "\n",
    "class LinearRegression:        \n",
    "    def __init__(self, weights=[], alpha=0.01, max_iters=100, threshold=1e-6):\n",
    "        self.weights = weights;\n",
    "        self.alpha = alpha;\n",
    "        self.max_iters = max_iters;\n",
    "        self.threshold = threshold;\n",
    "\n",
    "    def set_threshold(self, threshold):\n",
    "        self.threshold = threshold\n",
    "\n",
    "    def set_max_iters(self, max_iters):\n",
    "        self.max_iters = max_iters\n",
    "\n",
    "    def get_weights(self):\n",
    "        return self.weights\n",
    "\n",
    "    def train(self, X, Y, alpha = 0.01, max_iters = None, print_loss_iter = 100):\n",
    "        \"\"\"\n",
    "        - X: Training data (features). (2d numpy array)\n",
    "        - Y: Target variable. (2d numpy array)\n",
    "        - alpha: Learning rate (default = 0.01).\n",
    "        - max_iters: Maximum number of iterations for training. If None, use stopping criteria (e.g., when the loss is constant for the last 3 epochs).\n",
    "        - print_loss_iter: Print the loss every n iterations (default = 100).\n",
    "        - If max_iters is not provided, stop when the change in loss falls below a defined threshold.\n",
    "        \"\"\"\n",
    "        prevLoss = float('inf')\n",
    "        \n",
    "        # setting the class attributes\n",
    "        self.alpha = alpha\n",
    "        self.max_iters = max_iters\n",
    "\n",
    "        # pre-prend a column of 1's in X\n",
    "        ones_col = (np.ones(len(X))).reshape(-1, 1)\n",
    "        X = np.hstack((ones_col, X))\n",
    "\n",
    "        # initialize weights\n",
    "        self.weights = np.zeros(X.shape[1]).reshape(-1, 1)\n",
    "\n",
    "        # if max_iters is not provided, fall back to the pre-defined threshold\n",
    "        for num_iters in range(max_iters if max_iters is not None else 1_000_000):\n",
    "            # multiply with weights to get prediction\n",
    "            y_pred = np.dot(X, self.weights)\n",
    "    \n",
    "            # calculate total error\n",
    "            tot_err = mean_squared_error(y_real=Y, y_pred=y_pred)\n",
    "            \n",
    "            # update weights based on gradient descent\n",
    "            self.weights[0] -= (alpha * (2 * (np.mean(y_pred - Y))))\n",
    "    \n",
    "            for i in range(len(self.weights)):\n",
    "                if i != 0: # first weight has been updated\n",
    "                    self.weights[i] -= (alpha * (2 * (np.mean(np.dot(X.T, (y_pred - Y)))))) \n",
    "    \n",
    "            # multiply with weights to get prediction\n",
    "            y_pred = np.dot(X, self.weights)\n",
    "            \n",
    "            # calculate total error\n",
    "            tot_err = mean_squared_error(y_real=Y, y_pred=y_pred)\n",
    "\n",
    "            if num_iters % print_loss_iter == 0:\n",
    "                print(f\"Error on iteration {num_iters}: {tot_err}\")\n",
    "            \n",
    "            # Check for convergence\n",
    "            if max_iters is None and abs(prevLoss - tot_err) < self.threshold:\n",
    "                print(\"Converged according to the predefined threshold\")\n",
    "                break\n",
    "\n",
    "            prevLoss = tot_err\n",
    "\n",
    "    def predict(self, X):\n",
    "        # # pre-prend a column of 1's in X\n",
    "        # ones_col = (np.ones(len(X))).reshape(-1, 1)\n",
    "        # X = np.hstack((ones_col, X))\n",
    "        \n",
    "        return np.dot(X, self.weights[1:]) + self.weights[0]"
   ]
  },
  {
   "cell_type": "markdown",
   "id": "c00d28f7-b133-4e98-9e85-c0c609374f09",
   "metadata": {},
   "source": [
    "# Training step"
   ]
  },
  {
   "cell_type": "code",
   "execution_count": 20,
   "id": "046d50ce-f7aa-428e-9387-8fa4ea9b9a9f",
   "metadata": {},
   "outputs": [
    {
     "name": "stdout",
     "output_type": "stream",
     "text": [
      "Error on iteration 0: 122.9479329823928\n",
      "Error on iteration 5: 64.18332650238372\n",
      "Error on iteration 10: 63.78771440639339\n",
      "Error on iteration 15: 63.785990783583756\n",
      "Error on iteration 20: 63.786052242682096\n",
      "Converged according to the predefined threshold\n"
     ]
    }
   ],
   "source": [
    "lr = LinearRegression()\n",
    "lr.train(X_train, y_train, alpha=0.0000001, print_loss_iter=5)"
   ]
  },
  {
   "cell_type": "markdown",
   "id": "7cb3d397-7fb3-49ee-a549-4235783f7a09",
   "metadata": {},
   "source": [
    "# Weights"
   ]
  },
  {
   "cell_type": "code",
   "execution_count": 21,
   "id": "e794393d-716c-4fa1-91d7-c5ffadc28893",
   "metadata": {},
   "outputs": [
    {
     "name": "stdout",
     "output_type": "stream",
     "text": [
      "Weights of the Linear Regression model that it learned from the data: \n",
      " [[0.05734455]\n",
      " [0.05734455]\n",
      " [0.05734455]]\n"
     ]
    }
   ],
   "source": [
    "print(\"Weights of the Linear Regression model that it learned from the data: \\n\", lr.get_weights()[1:])"
   ]
  },
  {
   "cell_type": "markdown",
   "id": "540f904a-584a-4325-acc4-56be4430c0c3",
   "metadata": {},
   "source": [
    "## Conslusion from weights:\n",
    "\n",
    "Seeing the weights array we get to know that the first column (TV Ad Budget ($)) has the least significance in the feature set"
   ]
  },
  {
   "cell_type": "markdown",
   "id": "8fb7bccc-2710-4ef1-849a-e34921baa432",
   "metadata": {},
   "source": [
    "# Predict on the test data"
   ]
  },
  {
   "cell_type": "code",
   "execution_count": 22,
   "id": "7cdc869a-b9c2-47da-b629-2613764fd5cc",
   "metadata": {},
   "outputs": [],
   "source": [
    "y_pred = lr.predict(X_test)"
   ]
  },
  {
   "cell_type": "markdown",
   "id": "749c87eb-7b2c-4d99-bf48-002ec3f7e548",
   "metadata": {},
   "source": [
    "# Evaluate using MSE"
   ]
  },
  {
   "cell_type": "code",
   "execution_count": 23,
   "id": "3af1e689-1c07-4847-a139-0582343e5e0c",
   "metadata": {},
   "outputs": [
    {
     "data": {
      "text/plain": [
       "np.float64(53.00771205799144)"
      ]
     },
     "execution_count": 23,
     "metadata": {},
     "output_type": "execute_result"
    }
   ],
   "source": [
    "mean_squared_error(y_test, y_pred)"
   ]
  },
  {
   "cell_type": "markdown",
   "id": "720e1498-cb13-4cfa-b619-c96651ee0193",
   "metadata": {},
   "source": [
    "# Test using sample values"
   ]
  },
  {
   "cell_type": "code",
   "execution_count": 24,
   "id": "305bc8f3-4ec4-41a0-aa86-4bc7ee08d1a6",
   "metadata": {},
   "outputs": [
    {
     "data": {
      "text/plain": [
       "array([[15.46584155],\n",
       "       [17.13456788],\n",
       "       [ 5.21263643],\n",
       "       [17.07148888],\n",
       "       [16.79623505]])"
      ]
     },
     "execution_count": 24,
     "metadata": {},
     "output_type": "execute_result"
    }
   ],
   "source": [
    "lr.predict(X_test[0:5]) # predicted values"
   ]
  },
  {
   "cell_type": "code",
   "execution_count": 25,
   "id": "6ac265a9-9fc0-4d14-9618-cfdf6f4db8b4",
   "metadata": {},
   "outputs": [
    {
     "data": {
      "text/plain": [
       "array([22.6, 18.9,  7. , 21.5, 14.8])"
      ]
     },
     "execution_count": 25,
     "metadata": {},
     "output_type": "execute_result"
    }
   ],
   "source": [
    "y_test[0:5] # actual values"
   ]
  },
  {
   "cell_type": "code",
   "execution_count": null,
   "id": "246b6098-0890-4cda-823d-4844003ded8c",
   "metadata": {},
   "outputs": [],
   "source": []
  }
 ],
 "metadata": {
  "kernelspec": {
   "display_name": "Python 3 (ipykernel)",
   "language": "python",
   "name": "python3"
  },
  "language_info": {
   "codemirror_mode": {
    "name": "ipython",
    "version": 3
   },
   "file_extension": ".py",
   "mimetype": "text/x-python",
   "name": "python",
   "nbconvert_exporter": "python",
   "pygments_lexer": "ipython3",
   "version": "3.12.3"
  }
 },
 "nbformat": 4,
 "nbformat_minor": 5
}
